{
 "cells": [
  {
   "metadata": {},
   "cell_type": "markdown",
   "source": [
    "# This is a sample Jupyter Notebook\n",
    "\n",
    "Below is an example of a code cell. \n",
    "Put your cursor into the cell and press Shift+Enter to execute it and select the next one, or click 'Run Cell' button.\n",
    "\n",
    "Press Double Shift to search everywhere for classes, files, tool windows, actions, and settings.\n",
    "\n",
    "To learn more about Jupyter Notebooks in PyCharm, see [help](https://www.jetbrains.com/help/pycharm/ipython-notebook-support.html).\n",
    "For an overview of PyCharm, go to Help -> Learn IDE features or refer to [our documentation](https://www.jetbrains.com/help/pycharm/getting-started.html)."
   ],
   "id": "8a77807f92f26ee"
  },
  {
   "metadata": {
    "ExecuteTime": {
     "end_time": "2025-10-21T02:46:40.576526Z",
     "start_time": "2025-10-21T02:46:39.227497Z"
    }
   },
   "cell_type": "code",
   "source": [
    "import pandas as pd\n",
    "\n",
    "#URLs RAW dos arquivos\n",
    "url_clientes = 'https://raw.githubusercontent.com/Dmrchi/light/main/dbtProject/clientes.csv'\n",
    "url_perdas = 'https://raw.githubusercontent.com/Dmrchi/light/main/dbtProject/perdas_energia.csv'\n",
    "url_ocorrencias = 'https://raw.githubusercontent.com/Dmrchi/light/main/dbtProject/ocorrencias_tecnicas.csv'\n",
    "url_medicoes = 'https://raw.githubusercontent.com/Dmrchi/light/main/dbtProject/medicoes_energia.csv'\n",
    "\n",
    "#Criando DataFrames\n",
    "df_clientes = pd.read_csv(url_clientes)\n",
    "df_perdas_energia = pd.read_csv(url_perdas)\n",
    "df_ocorrencias_tecnicas = pd.read_csv(url_ocorrencias)\n",
    "df_medicoes_energia = pd.read_csv(url_medicoes)\n",
    "\n",
    "print(\"DataFrame Clientes:\")\n",
    "print(df_clientes.head())\n",
    "\n",
    "soma_energia_kwh = df_medicoes_energia['consumo_kwh']\n",
    "print(soma_energia_kwh)\n",
    "\n",
    "df_medicoes_energia['consumo_kwh'] = pd.to_numeric(\n",
    "    df_medicoes_energia['consumo_kwh'],\n",
    "    errors='coerce'\n",
    ")\n",
    "\n",
    "soma_energia_kwh = df_medicoes_energia['consumo_kwh'].sum()\n",
    "\n",
    "print(\"Resultado da Soma\")\n",
    "print(f\"Soma Total de Consumo (KWh): {soma_energia_kwh:,.2f}\")\n"
   ],
   "id": "fbc121e30a2defb3",
   "outputs": [
    {
     "name": "stdout",
     "output_type": "stream",
     "text": [
      "DataFrame Clientes:\n",
      "   id_cliente             nome_cliente               cidade estado  \\\n",
      "0           1             Luna da Mota            Gonçalves     BA   \n",
      "1           2     Lavínia da Conceição        Santos Grande     SP   \n",
      "2           3            Antônio Viana               Farias     BA   \n",
      "3           4  Dr. Luiz Fernando Lopes  Cavalcanti do Norte     BA   \n",
      "4           5   Dra. Gabrielly Cardoso            Fernandes     SP   \n",
      "\n",
      "  tipo_cliente data_adesao  \n",
      "0   Industrial  2024-09-26  \n",
      "1   Industrial  2020-10-23  \n",
      "2   Industrial  2021-06-27  \n",
      "3   Industrial  2022-11-03  \n",
      "4  Residencial  2021-09-25  \n",
      "0        3835.76\n",
      "1        2897.98\n",
      "2        3253.00\n",
      "3        2001.29\n",
      "4           0.00\n",
      "          ...   \n",
      "11995     636.61\n",
      "11996    2910.06\n",
      "11997    2241.42\n",
      "11998    2703.20\n",
      "11999    2083.64\n",
      "Name: consumo_kwh, Length: 12000, dtype: float64\n",
      "Resultado da Soma\n",
      "Soma Total de Consumo (KWh): 26,155,428.58\n"
     ]
    }
   ],
   "execution_count": 2
  },
  {
   "metadata": {},
   "cell_type": "code",
   "outputs": [],
   "execution_count": null,
   "source": "",
   "id": "f62e064591d2c429"
  }
 ],
 "metadata": {
  "kernelspec": {
   "display_name": "Python 3",
   "language": "python",
   "name": "python3"
  },
  "language_info": {
   "codemirror_mode": {
    "name": "ipython",
    "version": 2
   },
   "file_extension": ".py",
   "mimetype": "text/x-python",
   "name": "python",
   "nbconvert_exporter": "python",
   "pygments_lexer": "ipython2",
   "version": "2.7.6"
  }
 },
 "nbformat": 4,
 "nbformat_minor": 5
}
